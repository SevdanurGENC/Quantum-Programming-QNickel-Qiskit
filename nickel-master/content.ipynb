{
 "cells": [
  {
   "cell_type": "markdown",
   "metadata": {},
   "source": [
    "<table width=\"100%\"><tr style=\"background-color:white;\">\n",
    "    <td style=\"text-align:left;padding:0px;width:142px'\">\n",
    "        <a href=\"https://qworld.net\" target=\"_blank\">\n",
    "            <img src=\"qworld/images/QWorld.png\"></a></td>\n",
    "    <td width=\"*\">&nbsp;&nbsp;&nbsp;&nbsp;&nbsp;&nbsp;</td>\n",
    "    <!-- ############################################# -->\n",
    "    <td style=\"padding:0px;width:90px;\">\n",
    "        <img align=\"right\" src=\"qworld/images/follow_us.png\" height=\"40px\"></td>\n",
    "    <td style=\"padding:0px;width:40px;\">\n",
    "        <a href=\"https://twitter.com/QWorld19\" target=\"_blank\">\n",
    "        <img align=\"right\" src=\"qworld/images/Twitter.png\" width=\"40px\"></a> </td>\n",
    "    <td style=\"padding:0px;width:5px;\"></td>\n",
    "    <td style=\"padding:0px;width:40px;\">\n",
    "        <a href=\"https://www.facebook.com/qworld19/\" target=\"_blank\">\n",
    "        <img align=\"right\" src=\"qworld/images/Fb.png\"></a></td>\n",
    "    <td style=\"padding:0px;width:5px;\"></td>\n",
    "    <td style=\"padding:0px;width:40px;\">\n",
    "        <a href=\"https://www.linkedin.com/company/qworld19\" target=\"_blank\">\n",
    "        <img align=\"right\" src=\"qworld/images/LinkedIn.png\"></a></td>\n",
    "    <td style=\"padding:0px;width:5px;\"></td>\n",
    "    <td style=\"padding:0px;width:40px;\">\n",
    "        <a href=\"https://youtube.com/QWorld19?sub_confirmation=1\" target=\"_blank\">\n",
    "        <img align=\"right\" src=\"qworld/images/YT.png\"></a></td>\n",
    "    <!-- ############################################# -->\n",
    "    <td style=\"padding:0px;width:60px;\">\n",
    "        <img align=\"right\" src=\"qworld/images/join.png\" height=\"40px\"></td>\n",
    "    <td style=\"padding:0px;width:40px;\">\n",
    "        <a href=\"https://discord.com/invite/akCvr7U87g\"\n",
    "           target=\"_blank\">\n",
    "        <img align=\"right\" src=\"qworld/images/Discord.png\"></a></td>\n",
    "    <!-- ############################################# -->\n",
    "    <td style=\"padding:0px;width:72px;\">\n",
    "        <img align=\"right\" src=\"qworld/images/w3.png\" height=\"40px\"></td>\n",
    "    <td style=\"padding:0px;width:40px;\">\n",
    "        <a href=\"https://qworld.net\" target=\"_blank\">\n",
    "        <img align=\"right\" src=\"qworld/images/www.png\"></a></td>\n",
    "</tr></table>"
   ]
  },
  {
   "cell_type": "markdown",
   "metadata": {},
   "source": [
    "<h1 align=\"center\" style=\"color: #A9A9A9;\"> Welcome to QWorld's Nickel </h1>"
   ]
  },
  {
   "cell_type": "markdown",
   "metadata": {},
   "source": [
    "<font style=\"color: #A9A9A9;size:+1;\"><b>Nickel</b></font> is the continuation of our introductory material Bronze about the basics of quantum computation and quantum programming. It is a big collection of [Jupyter notebooks](https://jupyter.org).\n",
    "\n",
    "In Nickel, we focus on oracular quantum algorithms.\n",
    "\n",
    "*If you are using Jupyter notebooks for the first time, you can check our very short <a href=\"python/R00_Intro_to_Notebooks.ipynb\" target=\"_blank\">Introduction for Notebooks</a>.*\n",
    "\n",
    "**The open-source toolkits we are using:**\n",
    "- Programming language: <a href=\"https://www.python.org\" target=\"_blank\">python</a>\n",
    "- Quantum programming libraries:</u> <a href=\"https://qiskit.org\" target=\"_blank\">Qiskit</a>, and <a href=\"https://github.com/quantumlib/Cirq\" target=\"_blank\">Cirq</a>\n"
   ]
  },
  {
   "cell_type": "markdown",
   "metadata": {},
   "source": [
    "### Installation and Test\n",
    "\n",
    "_Python libraries including quantum ones are often updated. Therefore, there might appear some problems due to different versions._\n",
    "\n",
    "Before starting to use Nickel, please test your system by using the following notebook(s)!\n",
    "\n",
    "[Qiskit installation and test](test/Qiskit_installation_and_test.ipynb) \n",
    "\n",
    "[Cirq installation and test](test/Cirq_installation_and_test.ipynb) "
   ]
  },
  {
   "cell_type": "markdown",
   "metadata": {},
   "source": [
    "### Reference notebboks\n",
    "\n",
    "[Python Reference](nickel/R01_Python_Reference.ipynb) &nbsp;|&nbsp;\n",
    "[Python: Drawing](nickel/R02_Python_Drawing.ipynb) \n",
    "\n",
    "<hr>"
   ]
  },
  {
   "cell_type": "markdown",
   "metadata": {},
   "source": [
    "### Conventional Quantum Algorithms in Qiskit\n",
    "[Introduction to Qiskit](nickel/A00_Qiskit_Introduction.ipynb)\n",
    "\n",
    "[Classical gates](nickel/A01_Classical_Gates.ipynb) &nbsp;|&nbsp;\n",
    "[Phase kickback](nickel/A02_Phase_Kickback.ipynb) &nbsp;|&nbsp;\n",
    "[Deutsch Algorithm](nickel/A03_Deutsch_Algorithm.ipynb)\n",
    "\n",
    "[Deutsch-Jozsa Algorithm](nickel/A04_Deutsch_Jozsa_Algorithm.ipynb) &nbsp;|&nbsp;\n",
    "[Bernstein-Vazirani Algorithm](nickel/A05_Bernstein_Vazirani_Algorithm.ipynb) &nbsp;|&nbsp;\n",
    "[Simon's Algorithm](nickel/A06_Simons_Algorithm.ipynb)"
   ]
  },
  {
   "cell_type": "markdown",
   "metadata": {},
   "source": [
    "### Solving Max-Cut problem using Grover's Search in Cirq\n",
    "\n",
    "[Introduction to Cirq](nickel/D00_Cirq_Introduction.ipynb)&nbsp;|&nbsp;\n",
    "[Grover Algorithm revisited](nickel/B01_Grover_Algorithm_Revisited.ipynb)\n",
    "\n",
    "[Max-Cut Problem and Bipartite Graphs](nickel/B02_Max_Cut_Problem.ipynb) &nbsp;|&nbsp;\n",
    "[Adders and Numbers Checking](nickel/B03_Adders_And_Numbers_Checking.ipynb)\n",
    "\n",
    "[Grover algorithm for Max-Cut Problem](nickel/B04_Grover_Algorithm_For_Max-Cut_Problem.ipynb)\n",
    "<hr>\n"
   ]
  },
  {
   "cell_type": "markdown",
   "metadata": {},
   "source": [
    "[Credits](nickel/N00_Credits.ipynb)\n",
    "[References](nickel/N01_References.ipynb)"
   ]
  }
 ],
 "metadata": {
  "kernelspec": {
   "display_name": "Python 3",
   "language": "python",
   "name": "python3"
  },
  "language_info": {
   "codemirror_mode": {
    "name": "ipython",
    "version": 3
   },
   "file_extension": ".py",
   "mimetype": "text/x-python",
   "name": "python",
   "nbconvert_exporter": "python",
   "pygments_lexer": "ipython3",
   "version": "3.7.3"
  }
 },
 "nbformat": 4,
 "nbformat_minor": 2
}
