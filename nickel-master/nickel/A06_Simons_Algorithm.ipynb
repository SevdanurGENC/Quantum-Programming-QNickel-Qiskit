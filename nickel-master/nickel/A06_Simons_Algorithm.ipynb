{
 "cells": [
  {
   "cell_type": "markdown",
   "id": "growing-monster",
   "metadata": {},
   "source": [
    "<table> <tr>\n",
    "        <td  style=\"background-color:#ffffff;\">\n",
    "            <a href=\"http://qworld.lu.lv\" target=\"_blank\"><img src=\"..\\images\\qworld.jpg\" width=\"25%\" align=\"left\"> </a></td>\n",
    "                <td  align=\"right\" style=\"background-color:#ffffff;vertical-align:bottom;horizontal-align:right\">\n",
    "            prepared by Vishal Bajpe, Kenneth Isamade and Özlem Salehi            \n",
    "        </td>  \n",
    "</tr></table>"
   ]
  },
  {
   "cell_type": "markdown",
   "id": "described-clothing",
   "metadata": {},
   "source": [
    "<table width=\"100%\"><tr><td style=\"color:#bbbbbb;background-color:#ffffff;font-size:11px;font-style:italic;text-align:right;\">This cell contains some macros. If there is a problem with displaying mathematical formulas, please run this cell to load these macros. </td></tr></table>\n",
    "$ \\newcommand{\\bra}[1]{\\langle #1|} $\n",
    "$ \\newcommand{\\ket}[1]{|#1\\rangle} $\n",
    "$ \\newcommand{\\braket}[2]{\\langle #1|#2\\rangle} $\n",
    "$ \\newcommand{\\dot}[2]{ #1 \\cdot #2} $\n",
    "$ \\newcommand{\\biginner}[2]{\\left\\langle #1,#2\\right\\rangle} $\n",
    "$ \\newcommand{\\mymatrix}[2]{\\left( \\begin{array}{#1} #2\\end{array} \\right)} $\n",
    "$ \\newcommand{\\myvector}[1]{\\mymatrix{c}{#1}} $\n",
    "$ \\newcommand{\\myrvector}[1]{\\mymatrix{r}{#1}} $\n",
    "$ \\newcommand{\\mypar}[1]{\\left( #1 \\right)} $\n",
    "$ \\newcommand{\\mybigpar}[1]{ \\Big( #1 \\Big)} $\n",
    "$ \\newcommand{\\sqrttwo}{\\frac{1}{\\sqrt{2}}} $\n",
    "$ \\newcommand{\\dsqrttwo}{\\dfrac{1}{\\sqrt{2}}} $\n",
    "$ \\newcommand{\\onehalf}{\\frac{1}{2}} $\n",
    "$ \\newcommand{\\donehalf}{\\dfrac{1}{2}} $\n",
    "$ \\newcommand{\\hadamard}{ \\mymatrix{rr}{ \\sqrttwo & \\sqrttwo \\\\ \\sqrttwo & -\\sqrttwo }} $\n",
    "$ \\newcommand{\\vzero}{\\myvector{1\\\\0}} $\n",
    "$ \\newcommand{\\vone}{\\myvector{0\\\\1}} $\n",
    "$ \\newcommand{\\stateplus}{\\myvector{ \\sqrttwo \\\\  \\sqrttwo } } $\n",
    "$ \\newcommand{\\stateminus}{ \\myrvector{ \\sqrttwo \\\\ -\\sqrttwo } } $\n",
    "$ \\newcommand{\\myarray}[2]{ \\begin{array}{#1}#2\\end{array}} $\n",
    "$ \\newcommand{\\X}{ \\mymatrix{cc}{0 & 1 \\\\ 1 & 0}  } $\n",
    "$ \\newcommand{\\Z}{ \\mymatrix{rr}{1 & 0 \\\\ 0 & -1}  } $\n",
    "$ \\newcommand{\\Htwo}{ \\mymatrix{rrrr}{ \\frac{1}{2} & \\frac{1}{2} & \\frac{1}{2} & \\frac{1}{2} \\\\ \\frac{1}{2} & -\\frac{1}{2} & \\frac{1}{2} & -\\frac{1}{2} \\\\ \\frac{1}{2} & \\frac{1}{2} & -\\frac{1}{2} & -\\frac{1}{2} \\\\ \\frac{1}{2} & -\\frac{1}{2} & -\\frac{1}{2} & \\frac{1}{2} } } $\n",
    "$ \\newcommand{\\CNOT}{ \\mymatrix{cccc}{1 & 0 & 0 & 0 \\\\ 0 & 1 & 0 & 0 \\\\ 0 & 0 & 0 & 1 \\\\ 0 & 0 & 1 & 0} } $\n",
    "$ \\newcommand{\\norm}[1]{ \\left\\lVert #1 \\right\\rVert } $\n",
    "$ \\newcommand{\\pstate}[1]{ \\lceil \\mspace{-1mu} #1 \\mspace{-1.5mu} \\rfloor } $"
   ]
  },
  {
   "cell_type": "markdown",
   "id": "statewide-conditions",
   "metadata": {
    "id": "520ba859"
   },
   "source": [
    "# Simon's Algorithm"
   ]
  },
  {
   "cell_type": "markdown",
   "id": "charming-tourism",
   "metadata": {
    "id": "e91fa25d"
   },
   "source": [
    "In this notebook, we will look into Simon's problem and the quantum solution that solves it in exponentially fewer steps than the best known classical solution. This quantum solution is referred to as Simon's algorithm. Although this problem may seem like a toy problem at first, it has applications in the analysis of certain cryptosystems and served as the inspiration of another widely known and celebrated quantum algorithm, the renowned Shor's quantum factoring Algorithm."
   ]
  },
  {
   "cell_type": "markdown",
   "id": "informational-journal",
   "metadata": {
    "id": "50760fe0"
   },
   "source": [
    "## The Simon's Problem\n",
    "Let us look at the problem we have at hand:\n",
    "\n",
    "Given a function (implemented by an oracle) $f$ which maps $n$-bit strings to $n$-bit strings $f: \\{0,1\\}^{n} \\rightarrow \\{0,1\\}^{n}$, such that $f(x) = f(x\\oplus s)$ for $s$ ∈ {0,1}$^{n}$, the goal is to determine the value of $s$ by making as few queries to $f(x)$ as possible. \n",
    "\n",
    "$s$ here is refered to our secret string (or hidden string) which is to be deciphered.\n",
    "\n",
    "Now let us break this problem into smaller components:"
   ]
  },
  {
   "cell_type": "markdown",
   "id": "champion-negotiation",
   "metadata": {
    "id": "tDyfYnpRYOa4"
   },
   "source": [
    "### Bitwise XOR"
   ]
  },
  {
   "cell_type": "markdown",
   "id": "smart-folder",
   "metadata": {
    "id": "gMbt839GDXlm"
   },
   "source": [
    "The bitwise $XOR$ operator $\\oplus$ (also known as bitwise addition modulo 2) takes two bit strings as inputs and performs an exclusive OR operation on every bit pair from the two bit strings. The $XOR$ operator returns 1 if the bit pair is different and 0 if the bit pair is the same. \n",
    "\n",
    "One can say that the operator outputs a true value when either of the input bits are exclusively true very much similar to an bitwise addition modulus 2 (or a bitwise adition without the carry bit). \n",
    "\n",
    "Applying the bitwise $XOR$ operator to a random bit string $r$ : ($r$ ∈ {0,1}$^{n}$) and the zero bit string $z$ ($z = {0}^{n}$) will return $r$ as the output."
   ]
  },
  {
   "cell_type": "markdown",
   "id": "interim-czech",
   "metadata": {},
   "source": [
    "Recall the bitwise $XOR$ table for 2 bits\n",
    "\n",
    "$\\begin{array}{cc|c} \n",
    "A& B&A \\oplus B \\\\ \n",
    "\\hline\n",
    "0& 0 & 0 \\\\ \n",
    "0& 1 & 1 \\\\ \n",
    "1& 0 & 1 \\\\ \n",
    "1& 1 & 0 \\\\ \n",
    " \\end{array}\n",
    "$"
   ]
  },
  {
   "cell_type": "markdown",
   "id": "removed-gates",
   "metadata": {
    "id": "5hbPEuVlEnHO"
   },
   "source": [
    "Consider the example below; the bit strings are represented as vectors to make the steps clearer\n",
    "\n",
    "Let $a_{1}=101, a_{2}=011, a_{3}=100,  a_{4}=000$.\n",
    "\n",
    "$a_1 \\oplus a_2 = (1,0,1) \\oplus (0,1,1) = (1\\oplus 0, 0 \\oplus 1, 1 \\oplus 1) = 110$\n",
    "\n",
    "$a_1 \\oplus a_3 = (1,0,1) \\oplus (1,0,0) = (1\\oplus 1, 0 \\oplus 0, 1 \\oplus 0) = 001$\n",
    "\n",
    "$a_2 \\oplus a_3 = (0,1,1) \\oplus (1,0,0) = (0\\oplus 1, 1 \\oplus 0, 1 \\oplus 0) = 111$  \n",
    "\n",
    "$a_1 \\oplus a_4 = (1,0,1) \\oplus (0,0,0) = (1\\oplus 0, 0 \\oplus 0, 1 \\oplus 0) = 101$ "
   ]
  },
  {
   "cell_type": "markdown",
   "id": "decent-detector",
   "metadata": {
    "id": "b114efe4"
   },
   "source": [
    "Now having understood the bitwise $XOR$ operation, let us take go back to our problem statement for a 3 bit string. In the Figure below, we investigate a function $f$ which satisfies $f(x) = f(x \\oplus s)$ where $s$ is chosen as the bitstring $101$.\n"
   ]
  },
  {
   "cell_type": "markdown",
   "id": "technological-buffalo",
   "metadata": {},
   "source": [
    " <img src=\"../images/simon_function.png\" width=\"70%\" align=\"center\">"
   ]
  },
  {
   "cell_type": "markdown",
   "id": "successful-division",
   "metadata": {},
   "source": [
    "### Task 1 (On paper)\n",
    "\n",
    "For the function given above, check the remaining pair of bistrings $x$ and $x\\oplus s$ and make sure that they satisfy the property $f(x)=f(x\\oplus s)$."
   ]
  },
  {
   "cell_type": "markdown",
   "id": "agreed-hollywood",
   "metadata": {
    "id": "jLxRptQF-GZY"
   },
   "source": [
    "<a href=\"A06_Simons_Algorithm_Solutions.ipynb#task1\">Click for our solution</a>"
   ]
  },
  {
   "cell_type": "markdown",
   "id": "charged-spanking",
   "metadata": {
    "id": "110bdaa2"
   },
   "source": [
    "---\n",
    "\n",
    "In Simon's problem, our goal will be to find out $s$ making as few queries to $f$ as possible. The secret string $s$ can also be considered as a \"mask\" which hides the underlying encoding."
   ]
  },
  {
   "cell_type": "markdown",
   "id": "dietary-short",
   "metadata": {
    "id": "CaJzUi_0GKa7"
   },
   "source": [
    "As long as $s$ is not the zero bitrsing, the function is two-to-one i.e. mapping two elements from the domain to one value from the range. \n",
    "\n",
    "You may have also observed that for two inputs $x_1$ and $x_2$ for which $f(x_1) = f(x_2)$, $x_1⊕x_2$ yields the secret string $s$.\n",
    "\n",
    "<i>Note: Simon's problem is often defined as the problem of determining whether $f$ is two-to-one or one-to-one, in which case one needs to determine whether $s$ is the zero string or not.</i>"
   ]
  },
  {
   "cell_type": "markdown",
   "id": "knowing-powder",
   "metadata": {},
   "source": [
    "### Task 2 (On paper)\n",
    "\n",
    "Given that the function $f$ satisfies the property $f(x)=f(x\\oplus s)$, prove that $x_1 \\oplus x_2 = s$ if $f(x_1)=f(x_2)$.  Verify the claim for the function given above.  "
   ]
  },
  {
   "cell_type": "markdown",
   "id": "figured-capital",
   "metadata": {
    "id": "jLxRptQF-GZY"
   },
   "source": [
    "<a href=\"A06_Simons_Algorithm_Solutions.ipynb#task2\">Click for our solution</a>"
   ]
  },
  {
   "cell_type": "markdown",
   "id": "willing-hunter",
   "metadata": {
    "id": "a3f63e6f"
   },
   "source": [
    "## Classical solution\n",
    "Let us look at how we can approach this classically and what time complexity we can achieve. We are going with a straightforward naive approach and we acknowledge there can be more advanced approaches for the same, but the argument of an exponential speedup holds here.\n",
    "\n",
    "### Deterministic approach:"
   ]
  },
  {
   "cell_type": "markdown",
   "id": "subjective-aging",
   "metadata": {
    "id": "d09c787b"
   },
   "source": [
    "Lets look at a naive approach for this. To find the value of $s$ classically with absolute certainty, we can go through each input and compute 𝑓($x$) for different values of $x$ to find two inputs strings that map to the same output string. Then using the idea in Task 2, we can compute $s$. \n",
    "\n",
    "If we're lucky, we solve the problem with our first two queries and if we're unlucky, we'll have to make 2$^{n-1}$ + 1 queries (just over half of all the possible inputs) to solve the problem. \n",
    "\n",
    "Side note: There also is a deterministic approach that does it with a time complexity equivalent to [probabilistic approach](https://arxiv.org/abs/2104.14436). \n",
    "\n",
    "As you may have infered, it generally takes exponential time to solve this problem classically."
   ]
  },
  {
   "cell_type": "markdown",
   "id": "rough-fairy",
   "metadata": {
    "id": "G0KJWluWd-vb"
   },
   "source": [
    "### Probabilitsic approach:"
   ]
  },
  {
   "cell_type": "markdown",
   "id": "supreme-decade",
   "metadata": {
    "id": "6PlsrQ0feO5r"
   },
   "source": [
    "Let us try to find the value of $s$ making random queries to $f$. \n",
    "\n",
    "What is the probability of getting $f(x) = f(y)$ when you pick two random strings $x$ and $y$? This\n",
    "particular problem is called [birthday paradox](https://en.wikipedia.org/wiki/Birthday_problem) or Collision Problem in cryptography.  Encountering $f(x) = f(x\\oplus s)$ when we pick two random strings can be achieved if we randomly make $\\sim \n",
    "2^{n/2}$ queries, given we do not encounter a one-to-one case. This value provides a good lower bound for the number of queries required, but the chances that you can find the solution in much less than this number of trials is negligible to say the least. In general, it still takes exponential time to solve this problem in the probabilistic case. "
   ]
  },
  {
   "cell_type": "markdown",
   "id": "approximate-dialogue",
   "metadata": {},
   "source": [
    "### Task 3\n",
    "\n",
    "You are given a function $f:\\{0,1\\}^2 \\rightarrow \\{0,1\\}^2$, satisfying the property that $f(x) = f(x \\oplus s)$. Make random queries to $f$ to find out secret string $s$. How many queries did you make?\n",
    "\n",
    "Repeat the procedure for 1000 times and take the average."
   ]
  },
  {
   "cell_type": "markdown",
   "id": "affiliated-agreement",
   "metadata": {},
   "source": [
    "Please run the following cell to load the function $f$. To query $f(00)$, call $f$ as follows: `f(\"00\")`"
   ]
  },
  {
   "cell_type": "code",
   "execution_count": null,
   "id": "enclosed-juice",
   "metadata": {},
   "outputs": [],
   "source": [
    "%run ../include/oracle.py"
   ]
  },
  {
   "cell_type": "code",
   "execution_count": null,
   "id": "derived-divide",
   "metadata": {},
   "outputs": [],
   "source": [
    "import random\n",
    "\n",
    "#returns a random bitstring of length n\n",
    "def random_bitring(n):\n",
    "    s = \"\"\n",
    "    for i in range(n):\n",
    "    s += random.choice([\"0\", \"1\"])    \n",
    "    return s\n",
    "    \n",
    "\n",
    "#\n",
    "#Your code here\n",
    "#"
   ]
  },
  {
   "cell_type": "markdown",
   "id": "fifteen-trailer",
   "metadata": {
    "id": "jLxRptQF-GZY"
   },
   "source": [
    "<a href=\"A06_Simons_Algorithm_Solutions.ipynb#task3\">Click for our solution</a>"
   ]
  },
  {
   "cell_type": "markdown",
   "id": "personalized-hello",
   "metadata": {
    "id": "6PlsrQ0feO5r"
   },
   "source": [
    "As mentioned above, there is also a classical deterministic algorithm for commutative/abelian groups that achieve the same query complexity as the best probabilistic algorithm. The algorithm for non-commutative/non-abelian groups come within a polylogarithmic factor of the best probabilistic query complexity.\n",
    "\n",
    "Now let us look at how our quantum approach fares:"
   ]
  },
  {
   "cell_type": "markdown",
   "id": "egyptian-color",
   "metadata": {
    "id": "e167f514"
   },
   "source": [
    "## Quantum solution"
   ]
  },
  {
   "cell_type": "markdown",
   "id": "celtic-analyst",
   "metadata": {
    "id": "a05925eb"
   },
   "source": [
    "The claim here is that the quantum analogue to the solution of the Simons algorithm solves this problem making $O(n)$ queris which is much better than the $O(2^n)$ classical approaches.  "
   ]
  },
  {
   "cell_type": "markdown",
   "id": "automatic-armor",
   "metadata": {
    "id": "a05925eb"
   },
   "source": [
    " <img src=\"../images/simon_circuit.png\" width=\"60%\" align=\"center\">"
   ]
  },
  {
   "cell_type": "markdown",
   "id": "communist-drunk",
   "metadata": {
    "id": "a05925eb"
   },
   "source": [
    "The circuit given above is constructed and measured $O(n)$ times (until $n-1$ linearly independent equations are obtained) to get a list of $n$-bit strings $y \\in \\{0,1\\}^{n}$ and each run of the circuit gives us a sample at random from a set which satisfies the condition $y \\cdot s$ = 0 (dot product modulo 2)\n",
    "\n",
    "The rest of the algorithm is implemented classicaly.\n",
    "\n",
    "So after we repeat the measurement $n$ times, we have $y$ = $y_1$ $......$ $y_n$ and $s$ = $s_1$ $......$ $s_n$, essentially resulting in the following system of equations:  \n",
    "$y_1^1\\cdot s_1$ + &nbsp;&nbsp;$........$ &nbsp;&nbsp;+$y_n^1 \\cdot s_n$ &nbsp; = $0$    \n",
    "$.$ &emsp;&emsp;&emsp;&emsp;&emsp;&emsp;&emsp;&nbsp;&nbsp;&nbsp; $.$    \n",
    "$.$ &emsp;&emsp;&emsp;&emsp;&emsp;&emsp;&emsp;&nbsp;&nbsp;&nbsp; $.$   \n",
    "$.$ &emsp;&emsp;&emsp;&emsp;&emsp;&emsp;&emsp;&nbsp;&nbsp;&nbsp; $.$   \n",
    "$.$ &emsp;&emsp;&emsp;&emsp;&emsp;&emsp;&emsp;&nbsp;&nbsp;&nbsp; $.$  \n",
    "$y_1^{n-1} \\cdot s_1^1$+&nbsp; $.......$ &nbsp;+$y_n^{n-1}\\cdot s_n^1$  &nbsp;= $0$  \n",
    "\n",
    "One of the solutions will be $0^n$ and one of them will be our secret message $s$ which is the value we are interested in. We should keep in mind that $|{0}⟩^{⊗n}$ will always be a solution of this system but what we are interested is that if it is the *only* solution of the system or not. Any other solution will be our $s$ and given that we can solve this system of linear equation (using any method of our choice), we have arrived at our solution!   \n",
    "\n",
    "Lets look at the algorithm routine to achieve this in the next section."
   ]
  },
  {
   "cell_type": "markdown",
   "id": "animal-spice",
   "metadata": {
    "id": "RKMReUWG6uWk"
   },
   "source": [
    "## Algorithm\n"
   ]
  },
  {
   "cell_type": "markdown",
   "id": "guilty-kidney",
   "metadata": {
    "id": "KjSa6Hqz7hkQ"
   },
   "source": [
    "We construct a circuit with two quantum registers, each register contains $n$ qubits <br>\n",
    "\n",
    "*   Apply $H$ gates to all the qubits in the first register\n",
    "*   Apply the oracle function\n",
    "*   Measure the second register\n",
    "*   Apply $H$ gates to all the qubits in the first register\n",
    "*   Measure the first register and record the $n$-bit string as your first sample of $y_{i}$\n",
    "*   Repeat the above steps until you get $n-1$ distinct strings $y$ \n",
    "*   Construct a set of linear equations using bitstrings $y$ and solve for $s$\n",
    "\n",
    "\n",
    "\n",
    "\n",
    "\n",
    "\n",
    "\n",
    "\n",
    "\n"
   ]
  },
  {
   "cell_type": "markdown",
   "id": "generic-puzzle",
   "metadata": {
    "id": "RptIV0JHJ7Ql"
   },
   "source": [
    "## Analysis\n",
    "\n",
    "The following figure represents a general implementation of the Simon's algorithm"
   ]
  },
  {
   "cell_type": "markdown",
   "id": "planned-herald",
   "metadata": {
    "id": "CfOTjBqZZubS"
   },
   "source": [
    " <img src=\"../images/simon_circuit_2.png\" width=\"60%\" align=\"center\">"
   ]
  },
  {
   "cell_type": "markdown",
   "id": "appreciated-onion",
   "metadata": {},
   "source": [
    "Let's define the operator $U_f$ implementing the oracle function $f$ as\n",
    "\n",
    "$$ U_f(\\ket{x}\\ket{y}) = \\ket{x} \\ket{f(x) \\oplus y}. $$"
   ]
  },
  {
   "cell_type": "markdown",
   "id": "pretty-lending",
   "metadata": {
    "id": "h3QFFIcVK785"
   },
   "source": [
    "We start  with the initial state |0⟩$^{\\otimes}$ in both registers. Here we have two registers each with $n$ qubits:\n",
    "\n",
    "$$ |{\\psi_0}⟩ = |{0}⟩^{\\otimes n} |{0}⟩^{\\otimes n}$$"
   ]
  },
  {
   "cell_type": "markdown",
   "id": "based-phase",
   "metadata": {
    "id": "h3QFFIcVK785"
   },
   "source": [
    "Here we apply the Hadamard gates to the first register and obtain a superposition of all the possible $n$-bit inputs:\n",
    "\n",
    "$$ |{\\psi_1}⟩ = \\frac{1}{\\sqrt{2^{n}}}\\sum_{x ∈ \\left\\{0,1\\right\\}^{n}}|x⟩ |0⟩^{\\otimes} $$"
   ]
  },
  {
   "cell_type": "markdown",
   "id": "military-former",
   "metadata": {
    "id": "h3QFFIcVK785"
   },
   "source": [
    "Next we pass both registers as inputs to the oracle function U$_{f}$. As the output of U$_{f}$, the first register remains unchanged but the second register now produces the output values from the function 𝑓; where 𝑓($x$) is the output value for the corresponding input value $x$ in the first register:\n",
    "\n",
    "$$ |{\\psi_2}⟩ = \\frac{1}{\\sqrt{2^{n}}}\\sum_{x ∈ \\left\\{0,1\\right\\}^{n}}|x⟩ |𝑓(x)⟩ $$"
   ]
  },
  {
   "cell_type": "markdown",
   "id": "funky-nicaragua",
   "metadata": {
    "id": "h3QFFIcVK785"
   },
   "source": [
    "We measure the second register to randomly observe one of the output values. Say the observed outcome is $f(z)$ for some $z \\in \\{0,1\\}^n$.\n",
    "\n",
    "#### Case 1\n",
    "\n",
    "If 𝑓($x$) is a two-to-one function i.e. when $s \\neq 0^n$, we get a superposition of the two input values $\\ket{z}$ and $\\ket{z \\oplus s}$ that produce the observed output 𝑓($z$) in the second register:\n",
    "\n",
    "$$ |{\\psi_3}⟩ = \\frac{1}{\\sqrt{2}}(\\ket{z}+\\ket{z\\oplus s})\\ket{f(z)} $$"
   ]
  },
  {
   "cell_type": "markdown",
   "id": "mineral-vancouver",
   "metadata": {},
   "source": [
    "Recall the following expression.\n",
    "\n",
    "\\begin{align*}\n",
    "H^{\\otimes n}\\ket{z} &=  \\frac{1}{\\sqrt{2^n}} \\sum_{y \\in \\{0,1\\}^n} (-1)^{z \\cdot y}\\ket{y}\n",
    "\\end{align*}"
   ]
  },
  {
   "cell_type": "markdown",
   "id": "independent-cedar",
   "metadata": {
    "id": "h3QFFIcVK785"
   },
   "source": [
    "We apply another Hadamard transform to the first register. The second register is omitted below because it has been measured:\n",
    "\n",
    "\\begin{align*}\n",
    "|{\\psi_4}⟩ &= \\frac{1}{\\sqrt{2^{n+1}}}\\sum_{y ∈ \\left\\{0,1\\right\\}^{n}}[(-1)^{z \\cdot y}+(-1)^{(z\\oplus s) \\cdot y}]\\ket{y} \n",
    "\\end{align*}"
   ]
  },
  {
   "cell_type": "markdown",
   "id": "circular-arbitration",
   "metadata": {
    "id": "h3QFFIcVK785"
   },
   "source": [
    "We now measure the first register. Check that when $(-1)^{z \\cdot y} \\neq (-1)^{(z\\oplus s) \\cdot y}$, the term $(-1)^{z \\cdot y}+(-1)^{(z\\oplus s) \\cdot y}$ is 0, and the probability of observing such $y$ is equal to 0.\n",
    "\n",
    "So for some $\\ket{y}$ to have nonzero probability of measurement, it should satisfy $ (-1)^{z \\cdot y} = (-1)^{(z\\oplus s) \\cdot y}. $\n",
    "\n",
    "Then it follows that ${z \\cdot y} = {(z\\oplus s) \\cdot y}$ since the result of $\\cdot$ operation is either $0$ or $1$."
   ]
  },
  {
   "cell_type": "markdown",
   "id": "front-expense",
   "metadata": {
    "id": "h3QFFIcVK785"
   },
   "source": [
    "Using the property that $(z\\oplus s) \\cdot y = (z \\cdot y) \\oplus (s \\cdot y)$, we obtain"
   ]
  },
  {
   "cell_type": "markdown",
   "id": "republican-louisiana",
   "metadata": {
    "id": "2qnRqygjnTwJ"
   },
   "source": [
    "$$ z \\cdot y = (z \\cdot y) \\oplus (s \\cdot y). $$"
   ]
  },
  {
   "cell_type": "markdown",
   "id": "spare-patch",
   "metadata": {
    "id": "2qnRqygjnTwJ"
   },
   "source": [
    "$$ z \\cdot y = (z \\cdot y) \\oplus (s \\cdot y). $$\n",
    "\n",
    "Hence finally it follows that $s \\cdot y = 0$."
   ]
  },
  {
   "cell_type": "markdown",
   "id": "parental-syntax",
   "metadata": {},
   "source": [
    "Now if $s\\cdot y=0$,  $(-1)^{z \\cdot y}+(-1)^{(z\\oplus s) \\cdot y} = 2$ and we have a factor of $2$ inside. Thus, probability of observing $ y $ is  \n",
    "\n",
    "$$\\left (\\frac{2}{{2^n}} \\right )^2 = \\frac{1}{2^{n-1}}.$$ \n",
    "\n",
    "Hence any string $y$ that satisfies the property $s\\cdot y=0$ will be observed with equal probability and no string with the property $s\\cdot y=0 $ will be observed."
   ]
  },
  {
   "cell_type": "markdown",
   "id": "impossible-embassy",
   "metadata": {},
   "source": [
    "#### Case 2\n",
    "\n",
    "If $s = 0^n$, then we obtain the following state after the measurement.\n",
    "\n",
    "$$ \\ket{{\\psi_3}} =\\ket{z}\\ket{f(z)} $$"
   ]
  },
  {
   "cell_type": "markdown",
   "id": "selective-principal",
   "metadata": {},
   "source": [
    "After applying Hadamard we get the following state:\n",
    "\\begin{align*}\n",
    "\\ket{{\\psi_4}} &= \\frac{1}{\\sqrt{2^{n}}}\\sum_{y ∈ \\left\\{0,1\\right\\}^{n}}(-1)^{z \\cdot y}\\ket{y}. \n",
    "\\end{align*}"
   ]
  },
  {
   "cell_type": "markdown",
   "id": "related-clerk",
   "metadata": {},
   "source": [
    "Hence any one of the states $\\ket{y}$ is observed with equal probability.  "
   ]
  },
  {
   "cell_type": "markdown",
   "id": "ignored-concentration",
   "metadata": {},
   "source": [
    "---\n",
    "\n",
    "After the measurement, we still have not found a way to recover $s$. However, we found out a string $ y $ that satisfies the property $ s \\cdot y=0 $ in both cases of $ s=0^n $ and $ s\\neq 0^n $. \n",
    "\n",
    "If we make $n-1$ such queries, we can create a system of linear equations to find out the value of $s$. Hence, after repeating this procedure $n-1$ times, we get $n-1$ strings \\{$y^1,...,y^{n-1}$\\} so that we get a system of $n-1$ equations in $n$ unknowns in modulo $2$ satisfying \n",
    "\n",
    "$$y^1\\cdot s=0,~~y^2 \\cdot s=0,~~y^3 \\cdot s=0,...,y^{n-1} \\cdot s=0$$. \n",
    "\n",
    "If the strings we obtain \\{$y^1,...,y^{n-1}$\\} are linearly independent, then we can obtain a unique solution $s$. To obtain such a list, you need to repeat the algorithm approximately $O(n)$ times."
   ]
  },
  {
   "cell_type": "markdown",
   "id": "according-power",
   "metadata": {},
   "source": [
    "### Analysis on runtime (Optional)\n",
    "\n",
    "The probability that $n-1$ lienarly independent strings are obtained in $n-1$ runs is at least\n",
    "\n",
    "\\begin{align*}\n",
    "\\prod_{k=1}^{\\infty}1-\\left (\\onehalf \\right )^k = 0.288888... > 1/4\n",
    "\\end{align*}\n",
    "\n",
    "If you repeat whole process $4m$ times then the probability $P_M$ of finding a linearly dependent set:\n",
    "\n",
    "\\begin{align*}\n",
    "P_M < (1-(1/4))^{4m} < \\epsilon^{-m}.\n",
    "\\end{align*}\n",
    "\n",
    "Hence for any $\\epsilon > 0$, Simon's Algorithm can solve the problem making $O(n)$ queries with error probability of at most $\\epsilon$."
   ]
  },
  {
   "cell_type": "markdown",
   "id": "optical-cleaners",
   "metadata": {
    "id": "_pIO7_zN93n-"
   },
   "source": [
    "### Task 4\n",
    "\n",
    "\n",
    "You are given a blackbox oracle function `simons_oracle()` which implements function $f$ where $s$ is a 3-bit string. Complete the function `simon` which implements Simon's Algorithm. Note that each run of Simon's algorithm returns a single bitstring. \n",
    "\n",
    "You are given the code which calls it multiple times until $n-1$ bistrings $y$ are obtained. \n",
    "\n",
    "Run the following cell to load function `simons_oracle()`."
   ]
  },
  {
   "cell_type": "code",
   "execution_count": null,
   "id": "featured-sacrifice",
   "metadata": {
    "id": "AcY5sI0b96hF"
   },
   "outputs": [],
   "source": [
    "%run ../include/oracle.py"
   ]
  },
  {
   "cell_type": "code",
   "execution_count": null,
   "id": "otherwise-clearing",
   "metadata": {
    "id": "drFmg7QO98JK"
   },
   "outputs": [],
   "source": [
    "from qiskit import QuantumCircuit, execute, Aer, QuantumRegister, ClassicalRegister\n",
    "\n",
    "def simon():\n",
    "    # Define quantum and classical registers. \n",
    "    qreg1 = QuantumRegister(3, \"register_1\")\n",
    "    qreg2 = QuantumRegister(3, \"register_2\")\n",
    "    creg = ClassicalRegister(3)\n",
    "\n",
    "    # Define quantum Circuit\n",
    "    simon_circuit = QuantumCircuit(qreg1, qreg2, creg)\n",
    "\n",
    "    # Apply Hadamard to the first register\n",
    "    \n",
    "\n",
    "    # Apply the simon_oracle function\n",
    "    \n",
    "\n",
    "    # Apply Hadamard to the first register\n",
    "    \n",
    "\n",
    "    # Measure the first register\n",
    "    \n",
    "    \n",
    "    job = execute(simon_circuit, Aer.get_backend('qasm_simulator'),shots=1)\n",
    "    counts = job.result().get_counts() #Note that counts is a dictionary\n",
    "    \n",
    "    #Since the number of shots is 1, there is only a single key and we return it\n",
    "    return list(counts.keys())[0]"
   ]
  },
  {
   "cell_type": "code",
   "execution_count": null,
   "id": "accessory-subcommittee",
   "metadata": {
    "id": "kF3_ch_o-EW5"
   },
   "outputs": [],
   "source": [
    "n = 3\n",
    "y_list = []\n",
    "it = 1\n",
    "while(len(y_list)) < n-1:\n",
    "    y = simon() \n",
    "    if y!='000' and y not in y_list: #Omit 000 string omit if y already exists in the list\n",
    "        y_list.append(y) #we get the key and append it to our list\n",
    "    it+=1\n",
    "print(y_list)\n",
    "print(f\"It took {it} iterations to obtain the list of y's\")"
   ]
  },
  {
   "cell_type": "markdown",
   "id": "ceramic-asbestos",
   "metadata": {
    "id": "jLxRptQF-GZY"
   },
   "source": [
    "<a href=\"A06_Simons_Algorithm_Solutions.ipynb#task4\">Click for our solution</a>"
   ]
  },
  {
   "cell_type": "markdown",
   "id": "unexpected-talent",
   "metadata": {
    "id": "udBZaQmP-PzC"
   },
   "source": [
    "### Task 5\n",
    "\n",
    "Having obtained the list of bitstrings $y$ from Task 4, try to find the hidden bitstring from the output by solving the linear systems of equations. \n",
    "\n",
    "Note that when solving for $s$, you'll get two solutions. One solution you'll always get is $s$ = |0⟩$^{\\otimes n}$, discard this solution."
   ]
  },
  {
   "cell_type": "markdown",
   "id": "native-professional",
   "metadata": {
    "id": "udBZaQmP-PzC"
   },
   "source": [
    "<a href=\"A06_Simons_Algorithm_Solutions.ipynb#task5\">Click for our solution</a>"
   ]
  },
  {
   "cell_type": "markdown",
   "id": "identified-geography",
   "metadata": {},
   "source": [
    "Let us take a closer look at how to implement the oracle here taking an example with a 3 qubit setup. Remember our oracle function is a function that implements two-to-one mapping. The oracle circuit should not modify the first register. The output of the oracle circuit for the second register should be the output of the two-to-one mapping. There can be multiple ways of approaching this."
   ]
  }
 ],
 "metadata": {
  "colab": {
   "collapsed_sections": [
    "MlKwa-ZZ1YEP",
    "jLxRptQF-GZY",
    "liHk03DLAKjy",
    "nTknCzc1OGK1",
    "cxhIFQK_QfAl"
   ],
   "name": "Simon's Algorithm.ipynb",
   "provenance": []
  },
  "kernelspec": {
   "display_name": "Python 3",
   "language": "python",
   "name": "python3"
  },
  "language_info": {
   "codemirror_mode": {
    "name": "ipython",
    "version": 3
   },
   "file_extension": ".py",
   "mimetype": "text/x-python",
   "name": "python",
   "nbconvert_exporter": "python",
   "pygments_lexer": "ipython3",
   "version": "3.7.3"
  }
 },
 "nbformat": 4,
 "nbformat_minor": 5
}
