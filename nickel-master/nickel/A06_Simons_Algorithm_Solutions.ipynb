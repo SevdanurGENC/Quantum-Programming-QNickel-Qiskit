{
 "cells": [
  {
   "cell_type": "markdown",
   "id": "temporal-advisory",
   "metadata": {},
   "source": [
    "<table> <tr>\n",
    "        <td  style=\"background-color:#ffffff;\">\n",
    "            <a href=\"http://qworld.lu.lv\" target=\"_blank\"><img src=\"..\\images\\qworld.jpg\" width=\"25%\" align=\"left\"> </a></td>\n",
    "                <td  align=\"right\" style=\"background-color:#ffffff;vertical-align:bottom;horizontal-align:right\">\n",
    "            prepared by Vishal Bajpe, Kenneth Isamade and Özlem Salehi            \n",
    "        </td>  \n",
    "</tr></table>"
   ]
  },
  {
   "cell_type": "markdown",
   "id": "meaning-bathroom",
   "metadata": {},
   "source": [
    "<table width=\"100%\"><tr><td style=\"color:#bbbbbb;background-color:#ffffff;font-size:11px;font-style:italic;text-align:right;\">This cell contains some macros. If there is a problem with displaying mathematical formulas, please run this cell to load these macros. </td></tr></table>\n",
    "$ \\newcommand{\\bra}[1]{\\langle #1|} $\n",
    "$ \\newcommand{\\ket}[1]{|#1\\rangle} $\n",
    "$ \\newcommand{\\braket}[2]{\\langle #1|#2\\rangle} $\n",
    "$ \\newcommand{\\dot}[2]{ #1 \\cdot #2} $\n",
    "$ \\newcommand{\\biginner}[2]{\\left\\langle #1,#2\\right\\rangle} $\n",
    "$ \\newcommand{\\mymatrix}[2]{\\left( \\begin{array}{#1} #2\\end{array} \\right)} $\n",
    "$ \\newcommand{\\myvector}[1]{\\mymatrix{c}{#1}} $\n",
    "$ \\newcommand{\\myrvector}[1]{\\mymatrix{r}{#1}} $\n",
    "$ \\newcommand{\\mypar}[1]{\\left( #1 \\right)} $\n",
    "$ \\newcommand{\\mybigpar}[1]{ \\Big( #1 \\Big)} $\n",
    "$ \\newcommand{\\sqrttwo}{\\frac{1}{\\sqrt{2}}} $\n",
    "$ \\newcommand{\\dsqrttwo}{\\dfrac{1}{\\sqrt{2}}} $\n",
    "$ \\newcommand{\\onehalf}{\\frac{1}{2}} $\n",
    "$ \\newcommand{\\donehalf}{\\dfrac{1}{2}} $\n",
    "$ \\newcommand{\\hadamard}{ \\mymatrix{rr}{ \\sqrttwo & \\sqrttwo \\\\ \\sqrttwo & -\\sqrttwo }} $\n",
    "$ \\newcommand{\\vzero}{\\myvector{1\\\\0}} $\n",
    "$ \\newcommand{\\vone}{\\myvector{0\\\\1}} $\n",
    "$ \\newcommand{\\stateplus}{\\myvector{ \\sqrttwo \\\\  \\sqrttwo } } $\n",
    "$ \\newcommand{\\stateminus}{ \\myrvector{ \\sqrttwo \\\\ -\\sqrttwo } } $\n",
    "$ \\newcommand{\\myarray}[2]{ \\begin{array}{#1}#2\\end{array}} $\n",
    "$ \\newcommand{\\X}{ \\mymatrix{cc}{0 & 1 \\\\ 1 & 0}  } $\n",
    "$ \\newcommand{\\Z}{ \\mymatrix{rr}{1 & 0 \\\\ 0 & -1}  } $\n",
    "$ \\newcommand{\\Htwo}{ \\mymatrix{rrrr}{ \\frac{1}{2} & \\frac{1}{2} & \\frac{1}{2} & \\frac{1}{2} \\\\ \\frac{1}{2} & -\\frac{1}{2} & \\frac{1}{2} & -\\frac{1}{2} \\\\ \\frac{1}{2} & \\frac{1}{2} & -\\frac{1}{2} & -\\frac{1}{2} \\\\ \\frac{1}{2} & -\\frac{1}{2} & -\\frac{1}{2} & \\frac{1}{2} } } $\n",
    "$ \\newcommand{\\CNOT}{ \\mymatrix{cccc}{1 & 0 & 0 & 0 \\\\ 0 & 1 & 0 & 0 \\\\ 0 & 0 & 0 & 1 \\\\ 0 & 0 & 1 & 0} } $\n",
    "$ \\newcommand{\\norm}[1]{ \\left\\lVert #1 \\right\\rVert } $\n",
    "$ \\newcommand{\\pstate}[1]{ \\lceil \\mspace{-1mu} #1 \\mspace{-1.5mu} \\rfloor } $"
   ]
  },
  {
   "cell_type": "markdown",
   "id": "western-penny",
   "metadata": {},
   "source": [
    "\n",
    "<h1> <font color=\"blue\"> Solutions for </font> Simon's Algorithm   </h1>   "
   ]
  },
  {
   "cell_type": "markdown",
   "id": "noble-madagascar",
   "metadata": {},
   "source": [
    "<a id=\"task1\"></a>\n",
    "### Task 1 (On paper)\n",
    "\n",
    "For the function given above, check the remaining pair of bistrings $x$ and $x\\oplus s$ and make sure that they satisfy the property $f(x)=f(x\\oplus s)$."
   ]
  },
  {
   "cell_type": "markdown",
   "id": "corresponding-pride",
   "metadata": {},
   "source": [
    "\n",
    "### Solution"
   ]
  },
  {
   "cell_type": "markdown",
   "id": "emerging-segment",
   "metadata": {},
   "source": [
    "Let $x=000$. $x \\oplus s = 101$. $f(000) = f(101) = 000$.\n",
    "\n",
    "Let $x=011$. $x \\oplus s = 110$. $f(011) = f(110) = 100$.\n",
    "\n",
    "Hence, the remaining two pairs also satisfy the property that $f(x) = f(x \\oplus s)$ for $s = 101$."
   ]
  },
  {
   "cell_type": "markdown",
   "id": "australian-tolerance",
   "metadata": {},
   "source": [
    "<a id=\"task2\"></a>\n",
    "\n",
    "### Task 2 (On paper)\n",
    "\n",
    "Given that the function $f$ satisfies the property $f(x)=f(x\\oplus s)$, prove that $x_1 \\oplus x_2 = s$ if $f(x_1)=f(x_2)$.  Verify the claim for the function given above.  "
   ]
  },
  {
   "cell_type": "markdown",
   "id": "immune-ratio",
   "metadata": {},
   "source": [
    "\n",
    "### Solution"
   ]
  },
  {
   "cell_type": "markdown",
   "id": "republican-equipment",
   "metadata": {},
   "source": [
    "If $f(x_1) = f(x_2)$, then $x_2 = x_1 \\oplus s$ for some secret string $s$.\n",
    "\n",
    "Then, $x_1 \\oplus x_2$ = $x_1 \\oplus (x_1 \\oplus s)$ = $(x_1 \\oplus x_1) \\oplus s$ = $0 \\oplus s$ = $s$\n",
    "\n",
    "In the function given above, we can observe that  $000 \\oplus 101 = 011 \\oplus 110 = 101$."
   ]
  },
  {
   "cell_type": "markdown",
   "id": "terminal-portfolio",
   "metadata": {},
   "source": [
    "<a id=\"task3\"></a>\n",
    "\n",
    "### Task 3\n",
    "\n",
    "You are given a function $f:\\{0,1\\}^3 \\rightarrow \\{0,1\\}^3$, satisfying the property that $f(x) = f(x \\oplus s)$. Make random queries to $f$ to find out secret string $s$. How many queries did you make?\n",
    "\n",
    "Repeat the procedure for 1000 times and take the average."
   ]
  },
  {
   "cell_type": "markdown",
   "id": "medieval-joining",
   "metadata": {},
   "source": [
    "Please run the following cell to load the function $f$. To query $f(000)$, call $f$ as follows: `f(\"000\")`"
   ]
  },
  {
   "cell_type": "markdown",
   "id": "intended-forest",
   "metadata": {},
   "source": [
    "\n",
    "### Solution"
   ]
  },
  {
   "cell_type": "code",
   "execution_count": null,
   "id": "sitting-jerusalem",
   "metadata": {},
   "outputs": [],
   "source": [
    "%run ../include/oracle.py"
   ]
  },
  {
   "cell_type": "code",
   "execution_count": null,
   "id": "potential-princess",
   "metadata": {},
   "outputs": [],
   "source": [
    "import random\n",
    "\n",
    "#returns a random bitstring of length n\n",
    "def random_bitstring(n):\n",
    "    s = \"\"\n",
    "    for i in range(n):\n",
    "        s += random.choice([\"0\", \"1\"])          \n",
    "    return s\n",
    "\n",
    "def check_collision(f_dict):\n",
    "    if len(f_dict.values()) != len(set(f_dict.values())):#If an element is repeated, then we found a collision\n",
    "        return True\n",
    "    return False\n",
    "    \n",
    "\n",
    "num_queries = [] # A list to hold the number of queries we performed at each iteration\n",
    "for it in range(1000):\n",
    "    f_dict = {} # This will hold the s and f(s) pairs. s is the key, f(s) is the value\n",
    "    queries = 0\n",
    "    found = False \n",
    "    while(not found): # Continue until finding a collision\n",
    "        while True:\n",
    "            s = random_bitstring(3)\n",
    "            if s not in f_dict: #C ontinue until you pick an s which is not queried before\n",
    "                break\n",
    "        f_dict[s] = f(s) # We query f and store the result in f_dict\n",
    "        queries += 1 # Increase the number of queries\n",
    "        found = check_collision(f_dict) # Check if the f(s) = f(t) for different s and t\n",
    "    num_queries.append(queries) # Store the number of queries made\n",
    "    \n",
    "print(\"Average number of queries is\", sum(num_queries)/1000) #Print the average\n",
    "    "
   ]
  },
  {
   "cell_type": "markdown",
   "id": "eight-ghana",
   "metadata": {
    "id": "_pIO7_zN93n-"
   },
   "source": [
    "<a id=\"task4\"></a>\n",
    "\n",
    "### Task 4\n",
    "\n",
    "\n",
    "You are given a blackbox oracle function `simons_oracle()` which implements function $f$ where $s$ is a 3-bit string. Complete the function `simon` which implements Simon's Algorithm. Note that each run of Simon's algorithm returns a single bitstring. \n",
    "\n",
    "You are given the code which calls it multiple times until $n-1$ bistrings $y$ are obtained. \n",
    "\n",
    "Run the following cell to load function `simons_oracle()`."
   ]
  },
  {
   "cell_type": "code",
   "execution_count": null,
   "id": "miniature-florence",
   "metadata": {},
   "outputs": [],
   "source": [
    "%run ../include/oracle.py"
   ]
  },
  {
   "cell_type": "markdown",
   "id": "bright-spyware",
   "metadata": {},
   "source": [
    "### Solution "
   ]
  },
  {
   "cell_type": "code",
   "execution_count": null,
   "id": "bound-scott",
   "metadata": {},
   "outputs": [],
   "source": [
    "from qiskit import QuantumCircuit, execute, Aer, QuantumRegister, ClassicalRegister\n",
    "\n",
    "def simon():\n",
    "    # Define quantum and classical registers. \n",
    "    qreg1 = QuantumRegister(3, \"register_1\")\n",
    "    qreg2 = QuantumRegister(3, \"register_2\")\n",
    "    creg = ClassicalRegister(3)\n",
    "\n",
    "    # Define quantum Circuit\n",
    "    simon_circuit = QuantumCircuit(qreg1, qreg2, creg)\n",
    "\n",
    "    # Apply Hadamard to the first register\n",
    "    simon_circuit.h(qreg1)\n",
    "    simon_circuit.barrier()\n",
    "\n",
    "    # Apply the simon_oracle function\n",
    "    simon_circuit.compose(simon_oracle(), inplace=True)\n",
    "    simon_circuit.barrier()\n",
    "    \n",
    "    simon_circuit.measure(qreg2,creg)\n",
    "    simon_circuit.barrier()\n",
    "\n",
    "    # Apply Hadamard to the first register\n",
    "    simon_circuit.h(qreg1)\n",
    "    simon_circuit.barrier()\n",
    "\n",
    "    # Measure the first register\n",
    "    simon_circuit.measure(qreg1,creg)\n",
    "    \n",
    "    job = execute(simon_circuit, Aer.get_backend('qasm_simulator'),shots=1)\n",
    "    counts = job.result().get_counts() #Note that counts is a dictionary\n",
    "    \n",
    "    #Since the number of shots is 1, there is only a single key and we return it\n",
    "    return list(counts.keys())[0]"
   ]
  },
  {
   "cell_type": "code",
   "execution_count": null,
   "id": "dress-duplicate",
   "metadata": {},
   "outputs": [],
   "source": [
    "n = 3\n",
    "y_list = []\n",
    "it = 1\n",
    "while(len(y_list)) < n-1:\n",
    "    y = simon() \n",
    "    if y!='000' and y not in y_list: #Omit 000 string omit if y already exists in the list\n",
    "        y_list.append(y) #we get the key and append it to our list\n",
    "    it+=1\n",
    "print(y_list)\n",
    "print(f\"It took {it} iterations to obtain the list of y's\")"
   ]
  },
  {
   "cell_type": "markdown",
   "id": "marine-direction",
   "metadata": {
    "id": "udBZaQmP-PzC"
   },
   "source": [
    "<a id=\"task5\"></a>\n",
    "\n",
    "### Task 5\n",
    "\n",
    "Having obtained the list of bitstrings $y$ from Task 4, try to find the hidden bitstring from the output by solving the linear systems of equations. \n",
    "\n",
    "Note that when solving for $s$, you'll get two solutions. One solution you'll always get is $s$ = |0⟩$^{\\otimes n}$, discard this solution."
   ]
  },
  {
   "cell_type": "markdown",
   "id": "speaking-april",
   "metadata": {},
   "source": [
    "### Solution\n",
    "\n",
    "The obtained bitstrings $y$ from Task 4 are '101' and '001'. (Note that the strings you obtain may change when you rerun Task 4 again)\n",
    "\n",
    "$s \\cdot 101 = s_1 + s_3 = 0 \\mod 2$\n",
    "\n",
    "$s \\cdot 100 = s_1 = 0 \\mod 2$\n",
    "\n",
    "We can deduce that $s_1=0$ and $s_3=0$. $s_2$ can take value 0 or 1. When $s_2=0$, then $s$ is the 000 string and we discard it. Hence the solution is $s=010$. \n"
   ]
  }
 ],
 "metadata": {
  "colab": {
   "collapsed_sections": [],
   "name": "Simon's Algorithm.ipynb",
   "provenance": []
  },
  "kernelspec": {
   "display_name": "Python 3",
   "language": "python",
   "name": "python3"
  },
  "language_info": {
   "codemirror_mode": {
    "name": "ipython",
    "version": 3
   },
   "file_extension": ".py",
   "mimetype": "text/x-python",
   "name": "python",
   "nbconvert_exporter": "python",
   "pygments_lexer": "ipython3",
   "version": "3.7.3"
  }
 },
 "nbformat": 4,
 "nbformat_minor": 5
}
