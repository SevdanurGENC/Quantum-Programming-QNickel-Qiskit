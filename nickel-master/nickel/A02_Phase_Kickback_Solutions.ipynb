{
 "cells": [
  {
   "cell_type": "markdown",
   "metadata": {},
   "source": [
    "<table> <tr>\n",
    "        <td  style=\"background-color:#ffffff;\">\n",
    "            <a href=\"http://qworld.lu.lv\" target=\"_blank\"><img src=\"..\\images\\qworld.jpg\" width=\"25%\" align=\"left\"> </a></td>\n",
    "        <td style=\"background-color:#ffffff;vertical-align:bottom;text-align:right;\">\n",
    "            prepared by <a href=\"http://abu.lu.lv\" target=\"_blank\">Abuzer Yakaryilmaz</a> (<a href=\"http://qworld.lu.lv/index.php/qlatvia/\" target=\"_blank\">QLatvia</a>)\n",
    "        </td>        \n",
    "</tr></table>"
   ]
  },
  {
   "cell_type": "markdown",
   "metadata": {},
   "source": [
    "<table width=\"100%\"><tr><td style=\"color:#bbbbbb;background-color:#ffffff;font-size:11px;font-style:italic;text-align:right;\">This cell contains some macros. If there is a problem with displaying mathematical formulas, please run this cell to load these macros. </td></tr></table>\n",
    "$ \\newcommand{\\bra}[1]{\\langle #1|} $\n",
    "$ \\newcommand{\\ket}[1]{|#1\\rangle} $\n",
    "$ \\newcommand{\\braket}[2]{\\langle #1|#2\\rangle} $\n",
    "$ \\newcommand{\\dot}[2]{ #1 \\cdot #2} $\n",
    "$ \\newcommand{\\biginner}[2]{\\left\\langle #1,#2\\right\\rangle} $\n",
    "$ \\newcommand{\\mymatrix}[2]{\\left( \\begin{array}{#1} #2\\end{array} \\right)} $\n",
    "$ \\newcommand{\\myvector}[1]{\\mymatrix{c}{#1}} $\n",
    "$ \\newcommand{\\myrvector}[1]{\\mymatrix{r}{#1}} $\n",
    "$ \\newcommand{\\mypar}[1]{\\left( #1 \\right)} $\n",
    "$ \\newcommand{\\mybigpar}[1]{ \\Big( #1 \\Big)} $\n",
    "$ \\newcommand{\\sqrttwo}{\\frac{1}{\\sqrt{2}}} $\n",
    "$ \\newcommand{\\dsqrttwo}{\\dfrac{1}{\\sqrt{2}}} $\n",
    "$ \\newcommand{\\onehalf}{\\frac{1}{2}} $\n",
    "$ \\newcommand{\\donehalf}{\\dfrac{1}{2}} $\n",
    "$ \\newcommand{\\hadamard}{ \\mymatrix{rr}{ \\sqrttwo & \\sqrttwo \\\\ \\sqrttwo & -\\sqrttwo }} $\n",
    "$ \\newcommand{\\vzero}{\\myvector{1\\\\0}} $\n",
    "$ \\newcommand{\\vone}{\\myvector{0\\\\1}} $\n",
    "$ \\newcommand{\\stateplus}{\\myvector{ \\sqrttwo \\\\  \\sqrttwo } } $\n",
    "$ \\newcommand{\\stateminus}{ \\myrvector{ \\sqrttwo \\\\ -\\sqrttwo } } $\n",
    "$ \\newcommand{\\myarray}[2]{ \\begin{array}{#1}#2\\end{array}} $\n",
    "$ \\newcommand{\\X}{ \\mymatrix{cc}{0 & 1 \\\\ 1 & 0}  } $\n",
    "$ \\newcommand{\\Z}{ \\mymatrix{rr}{1 & 0 \\\\ 0 & -1}  } $\n",
    "$ \\newcommand{\\Htwo}{ \\mymatrix{rrrr}{ \\frac{1}{2} & \\frac{1}{2} & \\frac{1}{2} & \\frac{1}{2} \\\\ \\frac{1}{2} & -\\frac{1}{2} & \\frac{1}{2} & -\\frac{1}{2} \\\\ \\frac{1}{2} & \\frac{1}{2} & -\\frac{1}{2} & -\\frac{1}{2} \\\\ \\frac{1}{2} & -\\frac{1}{2} & -\\frac{1}{2} & \\frac{1}{2} } } $\n",
    "$ \\newcommand{\\CNOT}{ \\mymatrix{cccc}{1 & 0 & 0 & 0 \\\\ 0 & 1 & 0 & 0 \\\\ 0 & 0 & 0 & 1 \\\\ 0 & 0 & 1 & 0} } $\n",
    "$ \\newcommand{\\norm}[1]{ \\left\\lVert #1 \\right\\rVert } $\n",
    "$ \\newcommand{\\pstate}[1]{ \\lceil \\mspace{-1mu} #1 \\mspace{-1.5mu} \\rfloor } $"
   ]
  },
  {
   "cell_type": "markdown",
   "metadata": {},
   "source": [
    "<h1> <font color=\"blue\"> Solutions for </font>Phase Kickback</h1>"
   ]
  },
  {
   "cell_type": "markdown",
   "metadata": {},
   "source": [
    "<a id=\"task2\"></a>\n",
    "<h3> Task 1</h3>\n",
    "\n",
    "What is the other eigenstate of the $NOT$ operator? What is the corresponding eigenvalue?"
   ]
  },
  {
   "cell_type": "markdown",
   "metadata": {},
   "source": [
    "<h3> Solution </h3>"
   ]
  },
  {
   "cell_type": "markdown",
   "metadata": {},
   "source": [
    "Note that $NOT\\ket{+} = NOT(\\sqrttwo \\ket{0} + \\sqrttwo \\ket{1}) = \\sqrttwo NOT\\ket{0} + \\sqrttwo NOT\\ket{1}  = \\sqrttwo \\ket{1} + \\sqrttwo \\ket{0} = \\ket{+}$"
   ]
  },
  {
   "cell_type": "markdown",
   "metadata": {},
   "source": [
    "Hence, we can conclude that $\\ket{+}$ is an eigenstate of the $NOT$ operator with eigenvalue 1."
   ]
  },
  {
   "cell_type": "markdown",
   "metadata": {},
   "source": [
    "<a id=\"task2\"></a>\n",
    "<h3> Task 2</h3>\n",
    "\n",
    "Create a quantum circuit with a qreg register of two qubits.\n",
    "\n",
    "Set the state of qreg[0] to $ \\ket{1} $.\n",
    "\n",
    "Set the state of qreg[1] to $ \\ket{0} $.\n",
    "\n",
    "Apply Hadamard to both qubits.\n",
    "\n",
    "Apply $CNOT$ operator, where the controller qubit is qreg[1] and the target qubit is qreg[0].\n",
    "\n",
    "Apply Hadamard to both qubits.\n",
    "\n",
    "Measure the outcomes.\n",
    "\n",
    "We start in quantum state $ \\ket{01} $ (Keep in mind the Qiskit order). What is the outcome?"
   ]
  },
  {
   "cell_type": "markdown",
   "metadata": {},
   "source": [
    "<h3> Solution </h3>"
   ]
  },
  {
   "cell_type": "code",
   "execution_count": null,
   "metadata": {},
   "outputs": [],
   "source": [
    "# import all necessary objects and methods for quantum circuits\n",
    "from qiskit import QuantumRegister, ClassicalRegister, QuantumCircuit, execute, Aer\n",
    "\n",
    "qreg1 =  QuantumRegister(2) # quantum register with 2 qubits\n",
    "creg1 = ClassicalRegister(2) # classical register with 2 bits\n",
    "\n",
    "mycircuit1 = QuantumCircuit(qreg1,creg1) # quantum circuit with quantum and classical registers\n",
    "\n",
    "# qreg1[1] is in |0> state\n",
    "\n",
    "# set qreg1[0] to |1>\n",
    "mycircuit1.x(qreg1[0]) # apply x-gate (NOT operator)\n",
    "\n",
    "# apply Hadamard to both qubits.\n",
    "mycircuit1.h(qreg1)\n",
    "\n",
    "# apply CNOT operator, where the controller qubit is the qreg[1] and the target qubit is the qreg[0].\n",
    "mycircuit1.cx(qreg1[1],qreg1[0])\n",
    "\n",
    "# apply Hadamard to both qubits.\n",
    "mycircuit1.h(qreg1)\n",
    "\n",
    "# measure both qubits\n",
    "mycircuit1.measure(qreg1,creg1)\n",
    "\n",
    "# execute the circuit 100 times in the local simulator\n",
    "job = execute(mycircuit1,Aer.get_backend('qasm_simulator'),shots=100)\n",
    "counts = job.result().get_counts(mycircuit1)\n",
    "\n",
    "# print the outcome\n",
    "for outcome in counts:\n",
    "    print(\"We start in quantum state 01, and\",outcome,\"is observed\",counts[outcome],\"times\")"
   ]
  },
  {
   "cell_type": "markdown",
   "metadata": {},
   "source": [
    "<a id=\"task3\"></a>\n",
    "<h3> Task 3 </h3>\n",
    "\n",
    "Create a circuit with 7 qubits.\n",
    "\n",
    "Set the states of the qubits 1-6 to $ \\ket{0} $.\n",
    "\n",
    "Set the state of the qubit 0 to $ \\ket{1} $.\n",
    "\n",
    "Apply Hadamard operators to all qubits.\n",
    "\n",
    "Apply $CNOT$ operator (1,0) \n",
    "<br>\n",
    "Apply $CNOT$ operator (4,0)\n",
    "<br>\n",
    "Apply $CNOT$ operator (5,0)\n",
    "\n",
    "Apply Hadamard operators to all qubits.\n",
    "\n",
    "Measure all qubits. \n",
    "\n",
    "For each $CNOT$ operator, do we have a phase-kickback effect?"
   ]
  },
  {
   "cell_type": "markdown",
   "metadata": {},
   "source": [
    "<h3> Solution </h3>"
   ]
  },
  {
   "cell_type": "code",
   "execution_count": null,
   "metadata": {},
   "outputs": [],
   "source": [
    "# import all necessary objects and methods for quantum circuits\n",
    "from qiskit import QuantumRegister, ClassicalRegister, QuantumCircuit, execute, Aer\n",
    "\n",
    "# Create a circuit with 7 qubits.\n",
    "n = 7\n",
    "qreg2 = QuantumRegister(n) # quantum register with n qubits\n",
    "creg2 = ClassicalRegister(n) # classical register with n bits\n",
    "\n",
    "mycircuit2 = QuantumCircuit(qreg2,creg2) \n",
    "\n",
    "# the qubits 1-6 are already in |0>\n",
    "\n",
    "# set qubit 0 to |1>\n",
    "mycircuit2.x(0) # apply x-gate (NOT operator)\n",
    "\n",
    "# apply Hadamard to all qubits.\n",
    "mycircuit2.h(qreg2)\n",
    "\n",
    "# apply CNOT operator (1,0) \n",
    "# apply CNOT operator (4,0) \n",
    "# apply CNOT operator (5,0)\n",
    "mycircuit2.cx(1,0)\n",
    "mycircuit2.cx(4,0)\n",
    "mycircuit2.cx(5,0)\n",
    "\n",
    "# apply Hadamard to all qubits.\n",
    "mycircuit2.h(qreg2)\n",
    "\n",
    "# measure all qubits\n",
    "mycircuit2.measure(qreg2,creg2)\n",
    "\n",
    "# execute the circuit 100 times in the local simulator\n",
    "job = execute(mycircuit2,Aer.get_backend('qasm_simulator'),shots=100)\n",
    "counts = job.result().get_counts(mycircuit2)\n",
    "\n",
    "# print the outcome\n",
    "for outcome in counts:\n",
    "    for i in range(len(outcome)):\n",
    "        print(\"the final value of the qubit nr.\",(n-i-1),\"is\",outcome[i])"
   ]
  },
  {
   "cell_type": "code",
   "execution_count": null,
   "metadata": {},
   "outputs": [],
   "source": []
  }
 ],
 "metadata": {
  "kernelspec": {
   "display_name": "Python 3",
   "language": "python",
   "name": "python3"
  },
  "language_info": {
   "codemirror_mode": {
    "name": "ipython",
    "version": 3
   },
   "file_extension": ".py",
   "mimetype": "text/x-python",
   "name": "python",
   "nbconvert_exporter": "python",
   "pygments_lexer": "ipython3",
   "version": "3.7.3"
  }
 },
 "nbformat": 4,
 "nbformat_minor": 2
}
